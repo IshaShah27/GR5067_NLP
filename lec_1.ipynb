{
 "cells": [
  {
   "cell_type": "code",
   "execution_count": 6,
   "metadata": {},
   "outputs": [],
   "source": [
    "x_1 = 2\n",
    "X_1 = 3\n",
    "\n",
    "my_list = list()\n",
    "my_list.append('a')\n",
    "my_list.append('b')\n",
    "my_list.append('c')\n",
    "\n",
    "my_set = set()\n",
    "my_set.add('a')\n",
    "my_set.add('b')\n",
    "my_set.add('Z')\n",
    "my_set.add('c')\n",
    "my_set.add('A')\n",
    "\n",
    "my_dictionary = {'a_1': 1, 'b_a': 2}\n",
    "\n",
    "my_new_list = list()\n",
    "for word in my_list:\n",
    "    my_new_list.append('word: ' + word)\n",
    "    \n",
    "\n",
    "my_new_list_inline = [('word: ' + word) for word in my_list]\n",
    "\n",
    "my_new_list = list()\n",
    "for word in my_list:\n",
    "    if word != 'a':\n",
    "        my_new_list.append('word: ' + word)\n",
    "\n",
    "my_new_list_inline = [('word: ' + word) for word in my_list if word != 'a']\n",
    "\n",
    "my_test = dict()\n",
    "for word in my_dictionary.keys():\n",
    "    my_test['word' + word] = word\n",
    "    \n",
    "my_test['worda_1'] = 'override'"
   ]
  },
  {
   "cell_type": "code",
   "execution_count": 3,
   "metadata": {},
   "outputs": [
    {
     "data": {
      "text/plain": [
       "2"
      ]
     },
     "execution_count": 3,
     "metadata": {},
     "output_type": "execute_result"
    }
   ],
   "source": [
    "x_1\n"
   ]
  },
  {
   "cell_type": "code",
   "execution_count": 4,
   "metadata": {},
   "outputs": [
    {
     "data": {
      "text/plain": [
       "'override'"
      ]
     },
     "execution_count": 4,
     "metadata": {},
     "output_type": "execute_result"
    }
   ],
   "source": [
    "my_test['worda_1']\n"
   ]
  }
 ],
 "metadata": {
  "kernelspec": {
   "display_name": "Python 3",
   "language": "python",
   "name": "python3"
  },
  "language_info": {
   "codemirror_mode": {
    "name": "ipython",
    "version": 3
   },
   "file_extension": ".py",
   "mimetype": "text/x-python",
   "name": "python",
   "nbconvert_exporter": "python",
   "pygments_lexer": "ipython3",
   "version": "3.7.3"
  }
 },
 "nbformat": 4,
 "nbformat_minor": 2
}
